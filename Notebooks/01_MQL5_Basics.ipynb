{
 "cells": [
  {
   "cell_type": "markdown",
   "id": "30957071",
   "metadata": {},
   "source": [
    "# MQL5 Basics"
   ]
  },
  {
   "cell_type": "code",
   "execution_count": 55,
   "id": "3a6b9a26",
   "metadata": {},
   "outputs": [],
   "source": [
    "import MetaTrader5 as mt5"
   ]
  },
  {
   "cell_type": "markdown",
   "id": "3d6c8bfa",
   "metadata": {},
   "source": [
    "### Initialize the bound between MetaTrader5 and Python\n",
    "\n",
    "**Don't forget to set in the MetaTrader5 platform parameters the algo trading authorization**"
   ]
  },
  {
   "cell_type": "code",
   "execution_count": 56,
   "id": "78f74793",
   "metadata": {},
   "outputs": [
    {
     "data": {
      "text/plain": [
       "True"
      ]
     },
     "execution_count": 56,
     "metadata": {},
     "output_type": "execute_result"
    }
   ],
   "source": [
    "# Initialize the bound\n",
    "mt5.initialize()"
   ]
  },
  {
   "cell_type": "markdown",
   "id": "370e4afe",
   "metadata": {},
   "source": [
    "### Check the last error nature to understand how to correct it\n",
    "\n",
    "Link to the list of error codes: https://www.mql5.com/fr/docs/integration/python_metatrader5/mt5lasterror_py"
   ]
  },
  {
   "cell_type": "code",
   "execution_count": 57,
   "id": "4c2936b4",
   "metadata": {},
   "outputs": [
    {
     "data": {
      "text/plain": [
       "(1, 'Success')"
      ]
     },
     "execution_count": 57,
     "metadata": {},
     "output_type": "execute_result"
    }
   ],
   "source": [
    "# Check last error\n",
    "mt5.last_error()"
   ]
  },
  {
   "cell_type": "code",
   "execution_count": 58,
   "id": "445427b9",
   "metadata": {},
   "outputs": [
    {
     "data": {
      "text/plain": [
       "True"
      ]
     },
     "execution_count": 58,
     "metadata": {},
     "output_type": "execute_result"
    }
   ],
   "source": [
    "# Clsoe the bound between MT5 and Python\n",
    "mt5.shutdown()"
   ]
  },
  {
   "cell_type": "code",
   "execution_count": 59,
   "id": "62dd3c4b",
   "metadata": {},
   "outputs": [
    {
     "data": {
      "text/plain": [
       "(1, 'Success')"
      ]
     },
     "execution_count": 59,
     "metadata": {},
     "output_type": "execute_result"
    }
   ],
   "source": [
    "# Check last error\n",
    "mt5.last_error()"
   ]
  },
  {
   "cell_type": "code",
   "execution_count": 60,
   "id": "0d5f00f2",
   "metadata": {},
   "outputs": [],
   "source": [
    "# Call a function when the bound is down (No visual error but no exit)\n",
    "mt5.account_info()"
   ]
  },
  {
   "cell_type": "code",
   "execution_count": 75,
   "id": "aefff9db",
   "metadata": {},
   "outputs": [
    {
     "data": {
      "text/plain": [
       "(1, 'Success')"
      ]
     },
     "execution_count": 75,
     "metadata": {},
     "output_type": "execute_result"
    }
   ],
   "source": [
    "# Check last error\n",
    "mt5.last_error()"
   ]
  },
  {
   "cell_type": "code",
   "execution_count": 62,
   "id": "5faa7c42",
   "metadata": {},
   "outputs": [
    {
     "data": {
      "text/plain": [
       "True"
      ]
     },
     "execution_count": 62,
     "metadata": {},
     "output_type": "execute_result"
    }
   ],
   "source": [
    "# Initialize the bound\n",
    "mt5.initialize()"
   ]
  },
  {
   "cell_type": "markdown",
   "id": "2afdead9",
   "metadata": {},
   "source": [
    "### Extract account information"
   ]
  },
  {
   "cell_type": "code",
   "execution_count": 63,
   "id": "497b7c38",
   "metadata": {},
   "outputs": [
    {
     "data": {
      "text/plain": [
       "AccountInfo(login=9906158, trade_mode=0, leverage=30, limit_orders=500, margin_so_mode=0, trade_allowed=True, trade_expert=True, margin_mode=2, currency_digits=2, fifo_close=False, balance=10000.0, credit=0.0, profit=0.0, equity=10000.0, margin=0.0, margin_free=10000.0, margin_level=0.0, margin_so_call=80.0, margin_so_so=50.0, margin_initial=0.0, margin_maintenance=0.0, assets=0.0, liabilities=0.0, commission_blocked=0.0, name='Rajesh Thekkadath', server='FBSOceania-Demo', currency='AUC', company='Intelligent Financial Markets Pty Ltd')"
      ]
     },
     "execution_count": 63,
     "metadata": {},
     "output_type": "execute_result"
    }
   ],
   "source": [
    "# Extract account information\n",
    "mt5.account_info()"
   ]
  },
  {
   "cell_type": "code",
   "execution_count": 64,
   "id": "caba923a",
   "metadata": {},
   "outputs": [
    {
     "data": {
      "text/plain": [
       "10000.0"
      ]
     },
     "execution_count": 64,
     "metadata": {},
     "output_type": "execute_result"
    }
   ],
   "source": [
    "# Extract balance account\n",
    "information = mt5.account_info()\n",
    "information.balance"
   ]
  },
  {
   "cell_type": "code",
   "execution_count": 65,
   "id": "7a6ba2ea",
   "metadata": {},
   "outputs": [
    {
     "data": {
      "text/plain": [
       "9906158"
      ]
     },
     "execution_count": 65,
     "metadata": {},
     "output_type": "execute_result"
    }
   ],
   "source": [
    "# Extract log account\n",
    "information.login"
   ]
  },
  {
   "cell_type": "code",
   "execution_count": 66,
   "id": "060793f8",
   "metadata": {},
   "outputs": [
    {
     "data": {
      "text/plain": [
       "30"
      ]
     },
     "execution_count": 66,
     "metadata": {},
     "output_type": "execute_result"
    }
   ],
   "source": [
    "# Extract leverage account\n",
    "information.leverage"
   ]
  },
  {
   "cell_type": "code",
   "execution_count": 67,
   "id": "7e9cc92e",
   "metadata": {},
   "outputs": [
    {
     "data": {
      "text/plain": [
       "'FBSOceania-Demo'"
      ]
     },
     "execution_count": 67,
     "metadata": {},
     "output_type": "execute_result"
    }
   ],
   "source": [
    "# Extract server account\n",
    "information.server"
   ]
  },
  {
   "cell_type": "markdown",
   "id": "74f6c123",
   "metadata": {},
   "source": [
    "### Add a symbol into the market watch"
   ]
  },
  {
   "cell_type": "code",
   "execution_count": 68,
   "id": "511601b0",
   "metadata": {},
   "outputs": [
    {
     "data": {
      "text/plain": [
       "True"
      ]
     },
     "execution_count": 68,
     "metadata": {},
     "output_type": "execute_result"
    }
   ],
   "source": [
    "# Add a symbol into the market watch\n",
    "mt5.symbol_select(\"USDCADc\")"
   ]
  },
  {
   "cell_type": "markdown",
   "id": "a3daeb5b",
   "metadata": {},
   "source": [
    "### Extract symbol information"
   ]
  },
  {
   "cell_type": "code",
   "execution_count": 69,
   "id": "835dd8e5",
   "metadata": {},
   "outputs": [
    {
     "data": {
      "text/plain": [
       "SymbolInfo(custom=False, chart_mode=0, select=False, visible=False, session_deals=0, session_buy_orders=0, session_sell_orders=0, volume=0, volumehigh=0, volumelow=0, time=0, digits=5, spread=0, spread_float=True, ticks_bookdepth=0, trade_calc_mode=0, trade_mode=4, start_time=0, expiration_time=0, trade_stops_level=1, trade_freeze_level=0, trade_exemode=2, swap_mode=1, swap_rollover3days=3, margin_hedged_use_leg=False, expiration_mode=15, filling_mode=3, order_mode=127, order_gtc_mode=0, option_mode=0, option_right=0, bid=0.0, bidhigh=0.0, bidlow=0.0, ask=0.0, askhigh=0.0, asklow=0.0, last=0.0, lasthigh=0.0, lastlow=0.0, volume_real=0.0, volumehigh_real=0.0, volumelow_real=0.0, option_strike=0.0, point=1e-05, trade_tick_value=1.4567279, trade_tick_value_profit=1.4567279, trade_tick_value_loss=1.4567279, trade_tick_size=1e-05, trade_contract_size=1000.0, trade_accrued_interest=0.0, trade_face_value=0.0, trade_liquidity_rate=0.0, volume_min=0.01, volume_max=500.0, volume_step=0.01, volume_limit=0.0, swap_long=-5.46, swap_short=0.61, margin_initial=0.0, margin_maintenance=0.0, session_volume=0.0, session_turnover=0.0, session_interest=0.0, session_buy_orders_volume=0.0, session_sell_orders_volume=0.0, session_open=0.0, session_close=0.0, session_aw=0.0, session_price_settlement=0.0, session_price_limit_min=0.0, session_price_limit_max=0.0, margin_hedged=1000.0, price_change=0.0, price_volatility=0.0, price_theoretical=0.0, price_greeks_delta=0.0, price_greeks_theta=0.0, price_greeks_gamma=0.0, price_greeks_vega=0.0, price_greeks_rho=0.0, price_greeks_omega=0.0, price_sensitivity=0.0, basis='', category='', currency_base='EUR', currency_profit='USD', currency_margin='EUR', bank='', description='Euro vs US Dollar', exchange='', formula='', isin='', name='EURUSDc', page='', path='Forex\\\\Cent\\\\EURUSDc')"
      ]
     },
     "execution_count": 69,
     "metadata": {},
     "output_type": "execute_result"
    }
   ],
   "source": [
    "# Extract all information\n",
    "mt5.symbol_info(\"EURUSDc\")"
   ]
  },
  {
   "cell_type": "code",
   "execution_count": 70,
   "id": "09764013",
   "metadata": {},
   "outputs": [
    {
     "data": {
      "text/plain": [
       "0.0"
      ]
     },
     "execution_count": 70,
     "metadata": {},
     "output_type": "execute_result"
    }
   ],
   "source": [
    "# Extract bid price\n",
    "symbol = mt5.symbol_info(\"EURUSDc\")\n",
    "symbol.bid"
   ]
  },
  {
   "cell_type": "code",
   "execution_count": 71,
   "id": "6702f13b",
   "metadata": {},
   "outputs": [
    {
     "data": {
      "text/plain": [
       "0.0"
      ]
     },
     "execution_count": 71,
     "metadata": {},
     "output_type": "execute_result"
    }
   ],
   "source": [
    "# Extract ask price\n",
    "symbol.ask"
   ]
  },
  {
   "cell_type": "code",
   "execution_count": 72,
   "id": "c1204dc4",
   "metadata": {},
   "outputs": [
    {
     "data": {
      "text/plain": [
       "'Euro vs US Dollar'"
      ]
     },
     "execution_count": 72,
     "metadata": {},
     "output_type": "execute_result"
    }
   ],
   "source": [
    "# Extract description symbol\n",
    "symbol.description"
   ]
  },
  {
   "cell_type": "code",
   "execution_count": 73,
   "id": "31fb0e98",
   "metadata": {},
   "outputs": [
    {
     "data": {
      "text/plain": [
       "0.01"
      ]
     },
     "execution_count": 73,
     "metadata": {},
     "output_type": "execute_result"
    }
   ],
   "source": [
    "# Extract min volume\n",
    "symbol.volume_min"
   ]
  },
  {
   "cell_type": "code",
   "execution_count": 74,
   "id": "2121a7c0",
   "metadata": {},
   "outputs": [
    {
     "data": {
      "text/plain": [
       "1000.0"
      ]
     },
     "execution_count": 74,
     "metadata": {},
     "output_type": "execute_result"
    }
   ],
   "source": [
    "symbol.trade_contract_size"
   ]
  },
  {
   "cell_type": "code",
   "execution_count": null,
   "id": "db7b6c05",
   "metadata": {},
   "outputs": [],
   "source": []
  }
 ],
 "metadata": {
  "kernelspec": {
   "display_name": "Python 3 (ipykernel)",
   "language": "python",
   "name": "python3"
  },
  "language_info": {
   "codemirror_mode": {
    "name": "ipython",
    "version": 3
   },
   "file_extension": ".py",
   "mimetype": "text/x-python",
   "name": "python",
   "nbconvert_exporter": "python",
   "pygments_lexer": "ipython3",
   "version": "3.10.9"
  }
 },
 "nbformat": 4,
 "nbformat_minor": 5
}
