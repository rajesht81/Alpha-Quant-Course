{
 "cells": [
  {
   "cell_type": "code",
   "execution_count": 1,
   "id": "eb872e5b",
   "metadata": {},
   "outputs": [
    {
     "name": "stdout",
     "output_type": "stream",
     "text": [
      "                        open     high  ...  spread  real_volume\n",
      "time                                   ...                     \n",
      "2004-09-16 08:00:00  0.69490  0.69670  ...      50            0\n",
      "2004-09-16 12:00:00  0.69510  0.69790  ...      50            0\n",
      "2004-09-16 16:00:00  0.69650  0.70080  ...      50            0\n",
      "2004-09-16 20:00:00  0.69770  0.69980  ...      50            0\n",
      "2004-09-17 00:00:00  0.69860  0.69990  ...      50            0\n",
      "...                      ...      ...  ...     ...          ...\n",
      "2023-12-27 04:00:00  0.68276  0.68403  ...      13            0\n",
      "2023-12-27 08:00:00  0.68281  0.68376  ...      13            0\n",
      "2023-12-27 12:00:00  0.68329  0.68433  ...      13            0\n",
      "2023-12-27 16:00:00  0.68340  0.68510  ...      13            0\n",
      "2023-12-27 20:00:00  0.68449  0.68515  ...      13            0\n",
      "\n",
      "[30000 rows x 7 columns]\n"
     ]
    }
   ],
   "source": [
    "import os\n",
    "script_path = '../Data/create_databases.py'\n",
    "#script_path = '../Data/HighLowTime.py'\n",
    "os.system(f'python {script_path}')\n",
    "!python $script_path\n",
    "\n"
   ]
  },
  {
   "cell_type": "code",
   "execution_count": null,
   "id": "061d1a16",
   "metadata": {},
   "outputs": [],
   "source": []
  },
  {
   "cell_type": "code",
   "execution_count": null,
   "id": "b9a2e649",
   "metadata": {},
   "outputs": [],
   "source": []
  },
  {
   "cell_type": "code",
   "execution_count": null,
   "id": "b66c1bbd",
   "metadata": {},
   "outputs": [],
   "source": []
  }
 ],
 "metadata": {
  "kernelspec": {
   "display_name": "Python 3 (ipykernel)",
   "language": "python",
   "name": "python3"
  },
  "language_info": {
   "codemirror_mode": {
    "name": "ipython",
    "version": 3
   },
   "file_extension": ".py",
   "mimetype": "text/x-python",
   "name": "python",
   "nbconvert_exporter": "python",
   "pygments_lexer": "ipython3",
   "version": "3.10.9"
  }
 },
 "nbformat": 4,
 "nbformat_minor": 5
}
