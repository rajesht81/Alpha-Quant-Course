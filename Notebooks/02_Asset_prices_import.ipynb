{
 "cells": [
  {
   "cell_type": "markdown",
   "id": "a465f2ae",
   "metadata": {},
   "source": [
    "# Import Financial Data"
   ]
  },
  {
   "cell_type": "code",
   "execution_count": 2,
   "id": "0ac39669",
   "metadata": {},
   "outputs": [],
   "source": [
    "from datetime import datetime\n",
    "import MetaTrader5 as mt5\n",
    "import pandas as pd"
   ]
  },
  {
   "cell_type": "code",
   "execution_count": 3,
   "id": "4d3e100b",
   "metadata": {},
   "outputs": [
    {
     "data": {
      "text/plain": [
       "True"
      ]
     },
     "execution_count": 3,
     "metadata": {},
     "output_type": "execute_result"
    }
   ],
   "source": [
    "mt5.initialize()"
   ]
  },
  {
   "cell_type": "markdown",
   "id": "0d8361fa",
   "metadata": {},
   "source": [
    "### IMPORT TICKS DATA"
   ]
  },
  {
   "cell_type": "markdown",
   "id": "78e9601a",
   "metadata": {},
   "source": [
    "##### Import ticks from"
   ]
  },
  {
   "cell_type": "code",
   "execution_count": 4,
   "id": "f275acb1",
   "metadata": {},
   "outputs": [],
   "source": [
    "# Import ticks from a date to \n",
    "\n",
    "# Compute now date\n",
    "from_date = datetime.now()\n",
    "\n",
    "# Extract n Ticks before now\n",
    "mt5.copy_ticks_from(\"EURUSD-Z\", from_date, 10, mt5.COPY_TICKS_ALL)"
   ]
  },
  {
   "cell_type": "code",
   "execution_count": 5,
   "id": "7e2d7e7b",
   "metadata": {},
   "outputs": [
    {
     "data": {
      "text/html": [
       "<div>\n",
       "<style scoped>\n",
       "    .dataframe tbody tr th:only-of-type {\n",
       "        vertical-align: middle;\n",
       "    }\n",
       "\n",
       "    .dataframe tbody tr th {\n",
       "        vertical-align: top;\n",
       "    }\n",
       "\n",
       "    .dataframe thead th {\n",
       "        text-align: right;\n",
       "    }\n",
       "</style>\n",
       "<table border=\"1\" class=\"dataframe\">\n",
       "  <thead>\n",
       "    <tr style=\"text-align: right;\">\n",
       "      <th></th>\n",
       "      <th>time</th>\n",
       "      <th>bid</th>\n",
       "      <th>ask</th>\n",
       "      <th>last</th>\n",
       "      <th>volume</th>\n",
       "      <th>time_msc</th>\n",
       "      <th>flags</th>\n",
       "      <th>volume_real</th>\n",
       "    </tr>\n",
       "  </thead>\n",
       "  <tbody>\n",
       "    <tr>\n",
       "      <th>0</th>\n",
       "      <td>2023-12-27 09:21:53</td>\n",
       "      <td>1.10490</td>\n",
       "      <td>1.10499</td>\n",
       "      <td>0.0</td>\n",
       "      <td>0</td>\n",
       "      <td>1703668913074</td>\n",
       "      <td>230</td>\n",
       "      <td>0.0</td>\n",
       "    </tr>\n",
       "    <tr>\n",
       "      <th>1</th>\n",
       "      <td>2023-12-27 09:21:53</td>\n",
       "      <td>1.10490</td>\n",
       "      <td>1.10498</td>\n",
       "      <td>0.0</td>\n",
       "      <td>0</td>\n",
       "      <td>1703668913683</td>\n",
       "      <td>100</td>\n",
       "      <td>0.0</td>\n",
       "    </tr>\n",
       "    <tr>\n",
       "      <th>2</th>\n",
       "      <td>2023-12-27 09:21:53</td>\n",
       "      <td>1.10490</td>\n",
       "      <td>1.10499</td>\n",
       "      <td>0.0</td>\n",
       "      <td>0</td>\n",
       "      <td>1703668913783</td>\n",
       "      <td>100</td>\n",
       "      <td>0.0</td>\n",
       "    </tr>\n",
       "    <tr>\n",
       "      <th>3</th>\n",
       "      <td>2023-12-27 09:21:54</td>\n",
       "      <td>1.10489</td>\n",
       "      <td>1.10499</td>\n",
       "      <td>0.0</td>\n",
       "      <td>0</td>\n",
       "      <td>1703668914085</td>\n",
       "      <td>226</td>\n",
       "      <td>0.0</td>\n",
       "    </tr>\n",
       "    <tr>\n",
       "      <th>4</th>\n",
       "      <td>2023-12-27 09:21:54</td>\n",
       "      <td>1.10489</td>\n",
       "      <td>1.10499</td>\n",
       "      <td>0.0</td>\n",
       "      <td>0</td>\n",
       "      <td>1703668914483</td>\n",
       "      <td>96</td>\n",
       "      <td>0.0</td>\n",
       "    </tr>\n",
       "    <tr>\n",
       "      <th>5</th>\n",
       "      <td>2023-12-27 09:21:54</td>\n",
       "      <td>1.10489</td>\n",
       "      <td>1.10499</td>\n",
       "      <td>0.0</td>\n",
       "      <td>0</td>\n",
       "      <td>1703668914540</td>\n",
       "      <td>96</td>\n",
       "      <td>0.0</td>\n",
       "    </tr>\n",
       "    <tr>\n",
       "      <th>6</th>\n",
       "      <td>2023-12-27 09:21:55</td>\n",
       "      <td>1.10489</td>\n",
       "      <td>1.10499</td>\n",
       "      <td>0.0</td>\n",
       "      <td>0</td>\n",
       "      <td>1703668915473</td>\n",
       "      <td>96</td>\n",
       "      <td>0.0</td>\n",
       "    </tr>\n",
       "    <tr>\n",
       "      <th>7</th>\n",
       "      <td>2023-12-27 09:22:00</td>\n",
       "      <td>1.10488</td>\n",
       "      <td>1.10498</td>\n",
       "      <td>0.0</td>\n",
       "      <td>0</td>\n",
       "      <td>1703668920376</td>\n",
       "      <td>230</td>\n",
       "      <td>0.0</td>\n",
       "    </tr>\n",
       "    <tr>\n",
       "      <th>8</th>\n",
       "      <td>2023-12-27 09:22:02</td>\n",
       "      <td>1.10488</td>\n",
       "      <td>1.10498</td>\n",
       "      <td>0.0</td>\n",
       "      <td>0</td>\n",
       "      <td>1703668922875</td>\n",
       "      <td>96</td>\n",
       "      <td>0.0</td>\n",
       "    </tr>\n",
       "    <tr>\n",
       "      <th>9</th>\n",
       "      <td>2023-12-27 09:22:05</td>\n",
       "      <td>1.10488</td>\n",
       "      <td>1.10498</td>\n",
       "      <td>0.0</td>\n",
       "      <td>0</td>\n",
       "      <td>1703668925625</td>\n",
       "      <td>96</td>\n",
       "      <td>0.0</td>\n",
       "    </tr>\n",
       "  </tbody>\n",
       "</table>\n",
       "</div>"
      ],
      "text/plain": [
       "                 time      bid      ask  last  volume       time_msc  flags  \\\n",
       "0 2023-12-27 09:21:53  1.10490  1.10499   0.0       0  1703668913074    230   \n",
       "1 2023-12-27 09:21:53  1.10490  1.10498   0.0       0  1703668913683    100   \n",
       "2 2023-12-27 09:21:53  1.10490  1.10499   0.0       0  1703668913783    100   \n",
       "3 2023-12-27 09:21:54  1.10489  1.10499   0.0       0  1703668914085    226   \n",
       "4 2023-12-27 09:21:54  1.10489  1.10499   0.0       0  1703668914483     96   \n",
       "5 2023-12-27 09:21:54  1.10489  1.10499   0.0       0  1703668914540     96   \n",
       "6 2023-12-27 09:21:55  1.10489  1.10499   0.0       0  1703668915473     96   \n",
       "7 2023-12-27 09:22:00  1.10488  1.10498   0.0       0  1703668920376    230   \n",
       "8 2023-12-27 09:22:02  1.10488  1.10498   0.0       0  1703668922875     96   \n",
       "9 2023-12-27 09:22:05  1.10488  1.10498   0.0       0  1703668925625     96   \n",
       "\n",
       "   volume_real  \n",
       "0          0.0  \n",
       "1          0.0  \n",
       "2          0.0  \n",
       "3          0.0  \n",
       "4          0.0  \n",
       "5          0.0  \n",
       "6          0.0  \n",
       "7          0.0  \n",
       "8          0.0  \n",
       "9          0.0  "
      ]
     },
     "execution_count": 5,
     "metadata": {},
     "output_type": "execute_result"
    }
   ],
   "source": [
    "# Compute now date\n",
    "\n",
    "\n",
    "# Compute now date\n",
    "from_date = datetime.now()\n",
    "\n",
    "# Extract n Ticks before now\n",
    "ticks = mt5.copy_ticks_from(\"EURUSDc\", from_date, 10, mt5.COPY_TICKS_ALL)\n",
    "\n",
    "# Transfrom a tuple into a dataframe\n",
    "df_ticks = pd.DataFrame(ticks)\n",
    "\n",
    "# Convert number format of the date into date format\n",
    "df_ticks[\"time\"] = pd.to_datetime(df_ticks[\"time\"], unit=\"s\")\n",
    "\n",
    "df_ticks"
   ]
  },
  {
   "cell_type": "markdown",
   "id": "a55e6cb0",
   "metadata": {},
   "source": [
    "##### Import ticks Range"
   ]
  },
  {
   "cell_type": "code",
   "execution_count": 6,
   "id": "128e3558",
   "metadata": {},
   "outputs": [
    {
     "ename": "KeyError",
     "evalue": "'time'",
     "output_type": "error",
     "traceback": [
      "\u001b[1;31m---------------------------------------------------------------------------\u001b[0m",
      "\u001b[1;31mKeyError\u001b[0m                                  Traceback (most recent call last)",
      "File \u001b[1;32mC:\\ProgramData\\anaconda3\\lib\\site-packages\\pandas\\core\\indexes\\base.py:3802\u001b[0m, in \u001b[0;36mIndex.get_loc\u001b[1;34m(self, key, method, tolerance)\u001b[0m\n\u001b[0;32m   3801\u001b[0m \u001b[38;5;28;01mtry\u001b[39;00m:\n\u001b[1;32m-> 3802\u001b[0m     \u001b[38;5;28;01mreturn\u001b[39;00m \u001b[38;5;28;43mself\u001b[39;49m\u001b[38;5;241;43m.\u001b[39;49m\u001b[43m_engine\u001b[49m\u001b[38;5;241;43m.\u001b[39;49m\u001b[43mget_loc\u001b[49m\u001b[43m(\u001b[49m\u001b[43mcasted_key\u001b[49m\u001b[43m)\u001b[49m\n\u001b[0;32m   3803\u001b[0m \u001b[38;5;28;01mexcept\u001b[39;00m \u001b[38;5;167;01mKeyError\u001b[39;00m \u001b[38;5;28;01mas\u001b[39;00m err:\n",
      "File \u001b[1;32mC:\\ProgramData\\anaconda3\\lib\\site-packages\\pandas\\_libs\\index.pyx:138\u001b[0m, in \u001b[0;36mpandas._libs.index.IndexEngine.get_loc\u001b[1;34m()\u001b[0m\n",
      "File \u001b[1;32mC:\\ProgramData\\anaconda3\\lib\\site-packages\\pandas\\_libs\\index.pyx:165\u001b[0m, in \u001b[0;36mpandas._libs.index.IndexEngine.get_loc\u001b[1;34m()\u001b[0m\n",
      "File \u001b[1;32mpandas\\_libs\\hashtable_class_helper.pxi:5745\u001b[0m, in \u001b[0;36mpandas._libs.hashtable.PyObjectHashTable.get_item\u001b[1;34m()\u001b[0m\n",
      "File \u001b[1;32mpandas\\_libs\\hashtable_class_helper.pxi:5753\u001b[0m, in \u001b[0;36mpandas._libs.hashtable.PyObjectHashTable.get_item\u001b[1;34m()\u001b[0m\n",
      "\u001b[1;31mKeyError\u001b[0m: 'time'",
      "\nThe above exception was the direct cause of the following exception:\n",
      "\u001b[1;31mKeyError\u001b[0m                                  Traceback (most recent call last)",
      "Cell \u001b[1;32mIn[6], line 12\u001b[0m\n\u001b[0;32m      9\u001b[0m df_ticks \u001b[38;5;241m=\u001b[39m pd\u001b[38;5;241m.\u001b[39mDataFrame(ticks)\n\u001b[0;32m     11\u001b[0m \u001b[38;5;66;03m# Convert number format of the date into date format\u001b[39;00m\n\u001b[1;32m---> 12\u001b[0m df_ticks[\u001b[38;5;124m\"\u001b[39m\u001b[38;5;124mtime\u001b[39m\u001b[38;5;124m\"\u001b[39m] \u001b[38;5;241m=\u001b[39m pd\u001b[38;5;241m.\u001b[39mto_datetime(\u001b[43mdf_ticks\u001b[49m\u001b[43m[\u001b[49m\u001b[38;5;124;43m\"\u001b[39;49m\u001b[38;5;124;43mtime\u001b[39;49m\u001b[38;5;124;43m\"\u001b[39;49m\u001b[43m]\u001b[49m, unit\u001b[38;5;241m=\u001b[39m\u001b[38;5;124m\"\u001b[39m\u001b[38;5;124ms\u001b[39m\u001b[38;5;124m\"\u001b[39m)\n\u001b[0;32m     14\u001b[0m df_ticks\n",
      "File \u001b[1;32mC:\\ProgramData\\anaconda3\\lib\\site-packages\\pandas\\core\\frame.py:3807\u001b[0m, in \u001b[0;36mDataFrame.__getitem__\u001b[1;34m(self, key)\u001b[0m\n\u001b[0;32m   3805\u001b[0m \u001b[38;5;28;01mif\u001b[39;00m \u001b[38;5;28mself\u001b[39m\u001b[38;5;241m.\u001b[39mcolumns\u001b[38;5;241m.\u001b[39mnlevels \u001b[38;5;241m>\u001b[39m \u001b[38;5;241m1\u001b[39m:\n\u001b[0;32m   3806\u001b[0m     \u001b[38;5;28;01mreturn\u001b[39;00m \u001b[38;5;28mself\u001b[39m\u001b[38;5;241m.\u001b[39m_getitem_multilevel(key)\n\u001b[1;32m-> 3807\u001b[0m indexer \u001b[38;5;241m=\u001b[39m \u001b[38;5;28;43mself\u001b[39;49m\u001b[38;5;241;43m.\u001b[39;49m\u001b[43mcolumns\u001b[49m\u001b[38;5;241;43m.\u001b[39;49m\u001b[43mget_loc\u001b[49m\u001b[43m(\u001b[49m\u001b[43mkey\u001b[49m\u001b[43m)\u001b[49m\n\u001b[0;32m   3808\u001b[0m \u001b[38;5;28;01mif\u001b[39;00m is_integer(indexer):\n\u001b[0;32m   3809\u001b[0m     indexer \u001b[38;5;241m=\u001b[39m [indexer]\n",
      "File \u001b[1;32mC:\\ProgramData\\anaconda3\\lib\\site-packages\\pandas\\core\\indexes\\base.py:3804\u001b[0m, in \u001b[0;36mIndex.get_loc\u001b[1;34m(self, key, method, tolerance)\u001b[0m\n\u001b[0;32m   3802\u001b[0m     \u001b[38;5;28;01mreturn\u001b[39;00m \u001b[38;5;28mself\u001b[39m\u001b[38;5;241m.\u001b[39m_engine\u001b[38;5;241m.\u001b[39mget_loc(casted_key)\n\u001b[0;32m   3803\u001b[0m \u001b[38;5;28;01mexcept\u001b[39;00m \u001b[38;5;167;01mKeyError\u001b[39;00m \u001b[38;5;28;01mas\u001b[39;00m err:\n\u001b[1;32m-> 3804\u001b[0m     \u001b[38;5;28;01mraise\u001b[39;00m \u001b[38;5;167;01mKeyError\u001b[39;00m(key) \u001b[38;5;28;01mfrom\u001b[39;00m \u001b[38;5;21;01merr\u001b[39;00m\n\u001b[0;32m   3805\u001b[0m \u001b[38;5;28;01mexcept\u001b[39;00m \u001b[38;5;167;01mTypeError\u001b[39;00m:\n\u001b[0;32m   3806\u001b[0m     \u001b[38;5;66;03m# If we have a listlike key, _check_indexing_error will raise\u001b[39;00m\n\u001b[0;32m   3807\u001b[0m     \u001b[38;5;66;03m#  InvalidIndexError. Otherwise we fall through and re-raise\u001b[39;00m\n\u001b[0;32m   3808\u001b[0m     \u001b[38;5;66;03m#  the TypeError.\u001b[39;00m\n\u001b[0;32m   3809\u001b[0m     \u001b[38;5;28mself\u001b[39m\u001b[38;5;241m.\u001b[39m_check_indexing_error(key)\n",
      "\u001b[1;31mKeyError\u001b[0m: 'time'"
     ]
    }
   ],
   "source": [
    "# Compute now date\n",
    "from_date = datetime(2022,1,5)\n",
    "to_date = datetime(2022,1,6)\n",
    "\n",
    "# Extract n Ticks before now\n",
    "ticks = mt5.copy_ticks_range(\"EURUSDc\", from_date, to_date, mt5.COPY_TICKS_ALL)\n",
    "\n",
    "# Transfrom a tuple into a dataframe\n",
    "df_ticks = pd.DataFrame(ticks)\n",
    "\n",
    "# Convert number format of the date into date format\n",
    "df_ticks[\"time\"] = pd.to_datetime(df_ticks[\"time\"], unit=\"s\")\n",
    "\n",
    "df_ticks"
   ]
  },
  {
   "cell_type": "markdown",
   "id": "09702533",
   "metadata": {},
   "source": [
    "### IMPORT RATES DATA"
   ]
  },
  {
   "cell_type": "markdown",
   "id": "a2b7227c",
   "metadata": {},
   "source": [
    "##### Import rates from"
   ]
  },
  {
   "cell_type": "code",
   "execution_count": null,
   "id": "db5864f0",
   "metadata": {},
   "outputs": [],
   "source": [
    "# Compute now date\n",
    "from_date = datetime.now()\n",
    "\n",
    "# Extract n Ticks before now\n",
    "rates = mt5.copy_rates_from(\"EURUSDc\", mt5.TIMEFRAME_H1, from_date, 15)\n",
    "\n",
    "# Transform Tuple into a DataFrame\n",
    "df_rates = pd.DataFrame(rates)\n",
    "\n",
    "# Convert number format of the date into date format\n",
    "df_rates[\"time\"] = pd.to_datetime(df_rates[\"time\"], unit=\"s\")\n",
    "\n",
    "df_rates\n"
   ]
  },
  {
   "cell_type": "markdown",
   "id": "b90a0972",
   "metadata": {},
   "source": [
    "##### Import rates range"
   ]
  },
  {
   "cell_type": "code",
   "execution_count": null,
   "id": "516b4b18",
   "metadata": {},
   "outputs": [],
   "source": [
    "# Compute now date\n",
    "from_date = datetime(2022,1,1)\n",
    "to_date = datetime(2022,1,10)\n",
    "\n",
    "# Extract n Ticks before now\n",
    "rates = mt5.copy_rates_range(\"EURUSDc\", mt5.TIMEFRAME_H1, from_date, to_date)\n",
    "\n",
    "# Transform Tuple into a DataFrame\n",
    "df_rates = pd.DataFrame(rates)\n",
    "\n",
    "# Convert number format of the date into date format\n",
    "df_rates[\"time\"] = pd.to_datetime(df_rates[\"time\"], unit=\"s\")\n",
    "\n",
    "df_rates\n"
   ]
  },
  {
   "cell_type": "code",
   "execution_count": null,
   "id": "0a1ce447",
   "metadata": {},
   "outputs": [],
   "source": []
  }
 ],
 "metadata": {
  "kernelspec": {
   "display_name": "Python 3 (ipykernel)",
   "language": "python",
   "name": "python3"
  },
  "language_info": {
   "codemirror_mode": {
    "name": "ipython",
    "version": 3
   },
   "file_extension": ".py",
   "mimetype": "text/x-python",
   "name": "python",
   "nbconvert_exporter": "python",
   "pygments_lexer": "ipython3",
   "version": "3.10.9"
  }
 },
 "nbformat": 4,
 "nbformat_minor": 5
}
